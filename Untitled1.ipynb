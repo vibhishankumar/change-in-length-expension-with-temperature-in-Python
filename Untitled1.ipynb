{
 "cells": [
  {
   "cell_type": "code",
   "execution_count": 7,
   "metadata": {},
   "outputs": [
    {
     "name": "stdout",
     "output_type": "stream",
     "text": [
      "enter length of material in meter 400\n",
      "change in length in micrometer\n",
      "-------------------------\n",
      "silicon   224000.0\n",
      "cadmium   1200000\n",
      "lead   1160000\n",
      "gold   960000\n",
      "iron   480000\n",
      "mercury   2440000\n"
     ]
    },
    {
     "data": {
      "image/png": "[encoded data removed]",
      "text/plain": [
       "<Figure size 432x288 with 1 Axes>"
      ]
     },
     "metadata": {
      "needs_background": "light"
     },
     "output_type": "display_data"
    }
   ],
   "source": [
    "#importing matplotlib for plot of graph\n",
    "import matplotlib.pyplot as plt\n",
    "#name1=['silicon','cadmium','lead','gold','iron','mercury']#input(\"Enter name of metrial \")\n",
    "\n",
    "#Thermal Expansion Coefficients in micro meter [5.6,30,29,24,12,30] of respective list element of name1\n",
    "def changel(name,l):\n",
    "    list=[]\n",
    "    for i in name:\n",
    "        if i==\"silicon\":\n",
    "              #cl=alpha*l* change in temperature\n",
    "            cl=5.6*l*100\n",
    "            list.append(cl)\n",
    "        elif i==\"cadmium\":\n",
    "            cl=30*l*100\n",
    "            list.append(cl)\n",
    "        elif i==\"lead\":\n",
    "            cl=29*l*100\n",
    "            list.append(cl)\n",
    "        elif i==\"gold\":\n",
    "            cl=24*l*100\n",
    "            list.append(cl)\n",
    "        elif i==\"iron\":\n",
    "            cl=12*l*100\n",
    "            list.append(cl)\n",
    "        elif i==\"mercury\":\n",
    "            cl=61*l*100\n",
    "            list.append(cl)\n",
    "                \n",
    "    return list\n",
    "\n",
    "\n",
    "name1=['silicon','cadmium','lead','gold','iron','mercury']\n",
    "leng=int(input(\"enter length of material in meter \"))\n",
    "list1= changel(name1,leng)                               #call function changel()\n",
    "res = \"\\n\".join(\"{}   {}\".format(x, y) for x, y in zip(name1, list1))\n",
    "print('change in length in micrometer')\n",
    "print('-------------------------')\n",
    "print(res)\n",
    "#importing matplotlib for plot of graph\n",
    "#import matplotlib.pyplot as plt\n",
    "plt.plot(list1,'g*', 100, 'ro') #change in temperatur is 100\n",
    "plt.show() #plot is change in length for all metal as y and change in temperature as x axis"
   ]
  },
  {
   "cell_type": "code",
   "execution_count": null,
   "metadata": {},
   "outputs": [],
   "source": []
  }
 ],
 "metadata": {
  "kernelspec": {
   "display_name": "Python 3",
   "language": "python",
   "name": "python3"
  },
  "language_info": {
   "codemirror_mode": {
    "name": "ipython",
    "version": 3
   },
   "file_extension": ".py",
   "mimetype": "text/x-python",
   "name": "python",
   "nbconvert_exporter": "python",
   "pygments_lexer": "ipython3",
   "version": "3.7.6"
  }
 },
 "nbformat": 4,
 "nbformat_minor": 4
}
